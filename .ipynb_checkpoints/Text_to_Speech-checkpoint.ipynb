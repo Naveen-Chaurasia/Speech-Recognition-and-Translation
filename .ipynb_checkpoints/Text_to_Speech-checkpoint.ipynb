{
 "cells": [
  {
   "cell_type": "code",
   "execution_count": 2,
   "id": "subsequent-portal",
   "metadata": {},
   "outputs": [
    {
     "data": {
      "text/plain": [
       "1"
      ]
     },
     "execution_count": 2,
     "metadata": {},
     "output_type": "execute_result"
    }
   ],
   "source": [
    "from gtts import gTTS\n",
    "  \n",
    "\n",
    "import os\n",
    "  \n",
    "\n",
    "mytext = 'Welcome to geeksforgeeks!'\n",
    "  \n",
    "\n",
    "language = 'en'\n",
    "  \n",
    "\n",
    "myobj = gTTS(text=mytext, lang=language, slow=False)\n",
    "  \n",
    "\n",
    "myobj.save(\"welcome.mp3\")\n",
    "  \n",
    "\n",
    "os.system(\"mpg321 welcome.mp3\")"
   ]
  },
  {
   "cell_type": "code",
   "execution_count": null,
   "id": "amazing-straight",
   "metadata": {},
   "outputs": [],
   "source": []
  }
 ],
 "metadata": {
  "kernelspec": {
   "display_name": "Python 3",
   "language": "python",
   "name": "python3"
  },
  "language_info": {
   "codemirror_mode": {
    "name": "ipython",
    "version": 3
   },
   "file_extension": ".py",
   "mimetype": "text/x-python",
   "name": "python",
   "nbconvert_exporter": "python",
   "pygments_lexer": "ipython3",
   "version": "3.9.2"
  }
 },
 "nbformat": 4,
 "nbformat_minor": 5
}

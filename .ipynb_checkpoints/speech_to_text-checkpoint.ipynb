{
 "cells": [
  {
   "cell_type": "code",
   "execution_count": 1,
   "id": "center-absorption",
   "metadata": {},
   "outputs": [],
   "source": [
    "import speech_recognition as sr\n",
    "import pyttsx3 "
   ]
  },
  {
   "cell_type": "code",
   "execution_count": null,
   "id": "brilliant-stroke",
   "metadata": {},
   "outputs": [
    {
     "name": "stdout",
     "output_type": "stream",
     "text": [
      "Talk\n",
      "Time over, thanks\n",
      "Sorry, I did not get that\n",
      "Talk\n"
     ]
    }
   ],
   "source": [
    "\n",
    "\n",
    "import speech_recognition as sr\n",
    "\n",
    "r = sr.Recognizer()\n",
    "\n",
    "\n",
    "while(1):\n",
    "    \n",
    "    with sr.Microphone() as source:\n",
    "        print(\"Talk\")\n",
    "        audio_text = r.listen(source)\n",
    "        print(\"Time over, thanks\")\n",
    "        try:\n",
    "        # using google speech recognition\n",
    "            print(\"Text: \"+r.recognize_google(audio_text))\n",
    "        except:\n",
    "            print(\"Sorry, I did not get that\")"
   ]
  },
  {
   "cell_type": "code",
   "execution_count": null,
   "id": "weighted-filename",
   "metadata": {},
   "outputs": [],
   "source": []
  },
  {
   "cell_type": "code",
   "execution_count": null,
   "id": "micro-anatomy",
   "metadata": {},
   "outputs": [],
   "source": []
  }
 ],
 "metadata": {
  "kernelspec": {
   "display_name": "Python 3",
   "language": "python",
   "name": "python3"
  },
  "language_info": {
   "codemirror_mode": {
    "name": "ipython",
    "version": 3
   },
   "file_extension": ".py",
   "mimetype": "text/x-python",
   "name": "python",
   "nbconvert_exporter": "python",
   "pygments_lexer": "ipython3",
   "version": "3.9.2"
  }
 },
 "nbformat": 4,
 "nbformat_minor": 5
}

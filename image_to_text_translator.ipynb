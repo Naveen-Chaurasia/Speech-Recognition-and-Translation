{
 "cells": [
  {
   "cell_type": "code",
   "execution_count": 34,
   "id": "constant-border",
   "metadata": {},
   "outputs": [
    {
     "name": "stdout",
     "output_type": "stream",
     "text": [
      "<PIL.PngImagePlugin.PngImageFile image mode=L size=336x150 at 0x1C8614FCD00>\n",
      "This is the first line of\n",
      "this text example.\n",
      "\n",
      "This is the second line\n",
      "of the same text.\n",
      "\f",
      "\n",
      "इसकी पहली पंक्ति है  यह पाठ उदाहरण।  यह दूसरी पंक्ति है  एक ही पाठ का। \n"
     ]
    }
   ],
   "source": [
    "\n",
    "import pytesseract\n",
    "\n",
    "from PIL import Image\n",
    "\n",
    "import pyttsx3\n",
    "\n",
    "from googletrans import Translator\n",
    "\n",
    "img = Image.open('text15.png')\n",
    "\n",
    "\n",
    "print(img)\n",
    "\n",
    "pytesseract.pytesseract.tesseract_cmd ='C:/Program Files/Tesseract-OCR/tesseract.exe'\n",
    "\n",
    "result = pytesseract.image_to_string(img)\n",
    "\n",
    "with open('abc.txt',mode ='w') as file:\t\n",
    "\n",
    "                file.write(result)\n",
    "                print(result)\n",
    "\n",
    "\n",
    "from google_trans_new import google_translator  \n",
    "  \n",
    "translator = google_translator()  \n",
    "translate_text = translator.translate(result,lang_tgt='hi')  \n",
    "print(translate_text)"
   ]
  },
  {
   "cell_type": "code",
   "execution_count": null,
   "id": "hungarian-poker",
   "metadata": {},
   "outputs": [],
   "source": []
  }
 ],
 "metadata": {
  "kernelspec": {
   "display_name": "Python 3",
   "language": "python",
   "name": "python3"
  },
  "language_info": {
   "codemirror_mode": {
    "name": "ipython",
    "version": 3
   },
   "file_extension": ".py",
   "mimetype": "text/x-python",
   "name": "python",
   "nbconvert_exporter": "python",
   "pygments_lexer": "ipython3",
   "version": "3.9.2"
  }
 },
 "nbformat": 4,
 "nbformat_minor": 5
}
